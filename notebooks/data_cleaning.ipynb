{
 "cells": [
  {
   "cell_type": "code",
   "execution_count": null,
   "metadata": {},
   "outputs": [],
   "source": [
    "from openfoodfacts import API, APIVersion, Country, Environment, Flavor\n",
    "import pandas as pd\n",
    "from openfoodfacts import ProductDataset\n",
    "\n",
    "api = API(\n",
    "    user_agent=\"EATcareFULLY\",\n",
    "    username=None,\n",
    "    password=None,\n",
    "    country=Country.world,\n",
    "    flavor=Flavor.off,\n",
    "    version=APIVersion.v2,\n",
    "    environment=Environment.org,\n",
    ")"
   ]
  },
  {
   "cell_type": "code",
   "execution_count": 5,
   "metadata": {},
   "outputs": [
    {
     "name": "stderr",
     "output_type": "stream",
     "text": [
      "C:\\Users\\Michał Żądełek\\AppData\\Local\\Temp\\ipykernel_18680\\2685031352.py:1: DtypeWarning: Columns (0,11,17,31,32,33,34,35,45,50,52,53,56,58,67,68,71,72,87,88,89,90,91,92,93,94,97,98,100,103,106,107,108,109,110,111,112,113,114,206) have mixed types. Specify dtype option on import or set low_memory=False.\n",
      "  df = pd.read_csv('openfoodfacts.csv')\n"
     ]
    }
   ],
   "source": [
    "df = pd.read_csv('openfoodfacts.csv')"
   ]
  },
  {
   "cell_type": "code",
   "execution_count": null,
   "metadata": {},
   "outputs": [],
   "source": [
    "# dataset = ProductDataset(dataset_type=\"csv\")\n",
    "\n",
    "# items = []\n",
    "# for i, item in enumerate(dataset):\n",
    "#     items.append(item)\n",
    "\n",
    "# pd.set_option('display.max_columns', None)\n",
    "\n",
    "# df = pd.DataFrame(items)"
   ]
  },
  {
   "cell_type": "code",
   "execution_count": 152,
   "metadata": {},
   "outputs": [],
   "source": [
    "columns_to_drop = [\n",
    "    \"url\", \"creator\", \"created_t\", \"created_datetime\", \"last_modified_t\", \"generic_name\", \"abbreviated_product_name\", \"countries\", \"labels\", \"categories\", \"purchase_places\", \"countries_en\",\n",
    "    \"last_modified_datetime\", \"last_modified_by\", \"last_updated_t\", \"last_updated_datetime\", \"origins\", \"origins_tags\", \"origins_en\", \"manufacturing_places\", \"manufacturing_places_tags\", \n",
    "    \"brand_owner\", \"owner\", \"packaging\", \"packaging_tags\", \"packaging_text\", \"packaging_text_en\", \"brands\", \"brands_tags\", \"cities\", \"cities_tags\", \"ingredients_text\", \"ingredients_text_en\",\n",
    "    \"packaging_en\", \"emb_codes\", \"emb_codes_tags\", \"first_packaging_code_geo\", \"image_url\", \"image_small_url\", \"image_ingredients_url\", \"last_image_t\", \"last image_datetime\", \"allergens_en\", \"traces\", \"traces_en\", \n",
    "    \"image_ingredients_small_url\", \"image_nutrition_url\", \"image_nutrition_small_url\", \"no_nutrition_data\", \"additives\", \"additives_en\"]"
   ]
  },
  {
   "cell_type": "code",
   "execution_count": null,
   "metadata": {},
   "outputs": [],
   "source": [
    "# df_cleaned = df.drop(columns=columns_to_drop, errors='ignore')"
   ]
  },
  {
   "cell_type": "code",
   "execution_count": null,
   "metadata": {},
   "outputs": [
    {
     "data": {
      "text/plain": [
       "(3490666, 159)"
      ]
     },
     "execution_count": 154,
     "metadata": {},
     "output_type": "execute_result"
    }
   ],
   "source": [
    "# df_cleaned.shape"
   ]
  },
  {
   "cell_type": "code",
   "execution_count": null,
   "metadata": {},
   "outputs": [],
   "source": [
    "# df_cleaned.to_csv('openfoodfacts.csv', index=False)"
   ]
  }
 ],
 "metadata": {
  "kernelspec": {
   "display_name": "EATcareFULLY-supportive_services",
   "language": "python",
   "name": "python3"
  },
  "language_info": {
   "codemirror_mode": {
    "name": "ipython",
    "version": 3
   },
   "file_extension": ".py",
   "mimetype": "text/x-python",
   "name": "python",
   "nbconvert_exporter": "python",
   "pygments_lexer": "ipython3",
   "version": "3.12.3"
  }
 },
 "nbformat": 4,
 "nbformat_minor": 2
}
