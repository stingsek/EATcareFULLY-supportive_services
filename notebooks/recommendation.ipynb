{
 "cells": [
  {
   "cell_type": "code",
   "execution_count": null,
   "metadata": {},
   "outputs": [
    {
     "name": "stderr",
     "output_type": "stream",
     "text": [
      "c:\\Users\\Michał Żądełek\\OneDrive - Politechnika Wroclawska\\sem7\\ZPI\\EATcareFULLY-python\\EATcareFULLY-supportive_services\\Lib\\site-packages\\sentence_transformers\\cross_encoder\\CrossEncoder.py:13: TqdmExperimentalWarning: Using `tqdm.autonotebook.tqdm` in notebook mode. Use `tqdm.tqdm` instead to force console mode (e.g. in jupyter console)\n",
      "  from tqdm.autonotebook import tqdm, trange\n"
     ]
    }
   ],
   "source": [
    "from abc import ABC, abstractmethod\n",
    "import pandas as pd\n",
    "from typing import List, Dict, Any, Callable\n",
    "from dataclasses import dataclass, field\n",
    "from sentence_transformers import SentenceTransformer, util\n",
    "from functools import lru_cache\n",
    "\n",
    "class OpenFoodFactsProduct:\n",
    "    def __init__(self, code: str, df: pd.DataFrame) -> None:\n",
    "        self.code = code\n",
    "        self.product = df.loc[df['code'] == code].copy()\n",
    "\n",
    "    def get_main_category(self) -> str:\n",
    "        if self.product.empty:\n",
    "            raise ValueError(f\"No product found with code {self.code}\")\n",
    "            \n",
    "        if self.product[\"categories_en\"].str.contains(\"beverages\").any():\n",
    "            return \"beverage\"\n",
    "        return \"solid\""
   ]
  },
  {
   "cell_type": "code",
   "execution_count": 2,
   "metadata": {},
   "outputs": [],
   "source": [
    "class NutritionalRatingSystem(ABC):\n",
    "    def __init__(self, name=\"nutriscore\", required_factors=[\"energy_100g\", \"energy_kcal_100g\", \"proteins_100g\", \"fiber_100g\", \"saturated-fat_100g\", \"sugars_100g\", \"fruits-vegetables-nuts-estimate-from-ingredients_100g \", \"salt_100g\"]):\n",
    "        self.name = name,\n",
    "        self.required_factors = required_factors\n",
    "    \n",
    "    @abstractmethod\n",
    "    def calculate_score(self, product_code):\n",
    "        pass\n",
    "    \n",
    "    @abstractmethod\n",
    "    def rate(self, product_code):\n",
    "        pass"
   ]
  },
  {
   "cell_type": "code",
   "execution_count": 3,
   "metadata": {},
   "outputs": [],
   "source": [
    "class Nutriscore(NutritionalRatingSystem):\n",
    "    def __init__(self):\n",
    "        super().__init__()\n",
    "    \n",
    "\n",
    "     # Progi punktowe dla różnych kategorii\n",
    "        self.ENERGY_THRESHOLDS = {\n",
    "            \"solid\": [80, 160, 240, 320, 400, 480, 560, 640, 720, 800],\n",
    "            \"beverage\": [7.2, 14.3, 21.5, 28.5, 35.9, 43.0, 50.2, 57.4, 64.5, float('inf')]\n",
    "        }\n",
    "        \n",
    "        self.SUGAR_THRESHOLDS = {\n",
    "            \"solid\": [4.5, 9, 13.5, 18, 22.5, 27, 31, 36, 40, 45],\n",
    "            \"beverage\": [0, 1.5, 3.0, 4.5, 6.0, 7.5, 9.0, 10.5, 12.0, 13.5]\n",
    "        }\n",
    "        \n",
    "        self.SATURATED_FAT_THRESHOLDS = {\n",
    "            \"cooking_fats\": [10, 16, 22, 28, 34, 40, 46, 52, 58, 64],\n",
    "            \"default\": [1, 2, 3, 4, 5, 6, 7, 8, 9, 10]\n",
    "        }\n",
    "        \n",
    "        self.SODIUM_THRESHOLDS = [90, 180, 270, 360, 450, 540, 630, 720, 810, 900]\n",
    "        self.FIBER_THRESHOLDS = [0.7, 1.4, 2.1, 2.8, 3.5]\n",
    "        self.PROTEIN_THRESHOLDS = [1.6, 3.2, 4.8, 6.4, 8.0]\n",
    "\n",
    "    def _score_based_on_thresholds(self, value, thresholds, max_score):\n",
    "        \"\"\"Pomocnicza metoda do obliczania punktów na podstawie progów\"\"\"\n",
    "        for i, threshold in enumerate(thresholds):\n",
    "            if value <= threshold:\n",
    "                return i\n",
    "        return max_score\n",
    "\n",
    "    def calculate_score(self, product: OpenFoodFactsProduct):\n",
    "        if product.empty:\n",
    "            raise ValueError(\"Product not found\")\n",
    "        \n",
    "        product_category = product.get_main_category()\n",
    "        \n",
    "        # Punkty negatywne\n",
    "        negative_points = sum([\n",
    "            self.score_energy(product[\"energy_100g\"].values[0], product_category),\n",
    "            self.score_sugars(product[\"sugars_100g\"].values[0], product_category),\n",
    "            self.score_saturated_fat(product[\"saturated-fat_100g\"].values[0], product_category),\n",
    "            self.score_sodium(product[\"salt_100g\"].values[0], product_category)\n",
    "        ])\n",
    "        \n",
    "        # Punkty pozytywne\n",
    "        positive_points = sum([\n",
    "            self.score_fiber(product[\"fiber_100g\"].values[0]),\n",
    "            self.score_protein(product[\"proteins_100g\"].values[0]),\n",
    "            self.score_fruits_vegetables_nuts(\n",
    "                product[\"fruits-vegetables-nuts-estimate-from-ingredients_100g\"].values[0],\n",
    "                product_category\n",
    "            )\n",
    "        ])\n",
    "        \n",
    "        return negative_points - positive_points\n",
    "\n",
    "    def score_energy(self, energy, product_category):\n",
    "        thresholds = self.ENERGY_THRESHOLDS[product_category]\n",
    "        return self._score_based_on_thresholds(energy, thresholds, 10)\n",
    "\n",
    "    def score_sugars(self, sugars, product_category):\n",
    "        thresholds = self.SUGAR_THRESHOLDS[product_category]\n",
    "        return self._score_based_on_thresholds(sugars, thresholds, 10)\n",
    "\n",
    "    def score_saturated_fat(self, saturated_fat, product_category):\n",
    "        category = \"cooking_fats\" if product_category == \"cooking_fats\" else \"default\"\n",
    "        thresholds = self.SATURATED_FAT_THRESHOLDS[category]\n",
    "        return self._score_based_on_thresholds(saturated_fat, thresholds, 10)\n",
    "\n",
    "    def score_sodium(self, sodium, product_category=None):\n",
    "        return self._score_based_on_thresholds(sodium, self.SODIUM_THRESHOLDS, 10)\n",
    "\n",
    "    def score_fiber(self, fiber):\n",
    "        return self._score_based_on_thresholds(fiber, self.FIBER_THRESHOLDS, 5)\n",
    "\n",
    "    def score_protein(self, protein):\n",
    "        return self._score_based_on_thresholds(protein, self.PROTEIN_THRESHOLDS, 5)\n",
    "\n",
    "    def score_fruits_vegetables_nuts(self, fruits_vegetables_nuts, product_category):\n",
    "        if product_category == \"beverage\":\n",
    "            if fruits_vegetables_nuts <= 40:\n",
    "                return 0\n",
    "            elif fruits_vegetables_nuts <= 60:\n",
    "                return 2\n",
    "            elif fruits_vegetables_nuts <= 80:\n",
    "                return 4\n",
    "            return 10\n",
    "        else:\n",
    "            if fruits_vegetables_nuts <= 40:\n",
    "                return 0\n",
    "            elif fruits_vegetables_nuts <= 60:\n",
    "                return 1\n",
    "            elif fruits_vegetables_nuts <= 80:\n",
    "                return 2\n",
    "            return 5\n",
    "\n",
    "    def rate(self, product: OpenFoodFactsProduct):\n",
    "        score = self.calculate_score(product)\n",
    "        \n",
    "        RATING_RANGES = {\n",
    "            \"solid\": {\n",
    "                (-float('inf'), -1): \"A\",\n",
    "                (-1, 2): \"B\",\n",
    "                (2, 10): \"C\",\n",
    "                (10, 18): \"D\",\n",
    "                (18, float('inf')): \"E\"\n",
    "            },\n",
    "            \"beverage\": {\n",
    "                (-float('inf'), 0): \"A\",\n",
    "                (0, 1): \"B\",\n",
    "                (1, 5): \"C\",\n",
    "                (5, 9): \"D\",\n",
    "                (9, float('inf')): \"E\"\n",
    "            }\n",
    "        }\n",
    "        \n",
    "        ranges = RATING_RANGES[product.get_main_category()]\n",
    "        for (min_score, max_score), grade in ranges.items():\n",
    "            if min_score < score <= max_score:\n",
    "                return grade"
   ]
  },
  {
   "cell_type": "code",
   "execution_count": 4,
   "metadata": {},
   "outputs": [],
   "source": [
    "class RecommendationFactor:\n",
    "    def __init__(self, name: str, weight: int, threshold: int, content: List[str], avoid = False) -> None:\n",
    "        self.name = name\n",
    "        self.weight = weight\n",
    "        self.content = content\n",
    "        self.avoid = avoid\n",
    "        self.threshold = threshold\n",
    "\n",
    "# self.nutritional_rating_systems = nutritional_rating_systems\n",
    "# self.labels_to_avoid = labels_to_avoid\n",
    "# self.allergens_to_avoid = allergens_to_avoid\n",
    "# self.additives_to_avoid = additives_to_avoid\n",
    "# self.traces_to_avoid = traces_to_avoid\n",
    "# self.ingriedients_to_avoid = ingriedients_to_avoid\n",
    "# self.ingriedients_preferred = "
   ]
  },
  {
   "cell_type": "code",
   "execution_count": 5,
   "metadata": {},
   "outputs": [],
   "source": [
    "@dataclass\n",
    "class RecommendationStrategy:\n",
    "    recommendation_factors : List[RecommendationFactor] = field(default_factory=list)\n",
    "    nutritional_rating_systems : List[NutritionalRatingSystem] = field(default_factory=list)"
   ]
  },
  {
   "cell_type": "code",
   "execution_count": 6,
   "metadata": {},
   "outputs": [],
   "source": [
    "class CategoriesComparator(ABC):\n",
    "    @abstractmethod\n",
    "    def compare(self, product_categories: str, user_categories: str) -> float:\n",
    "        pass"
   ]
  },
  {
   "cell_type": "code",
   "execution_count": 7,
   "metadata": {},
   "outputs": [
    {
     "data": {
      "application/vnd.jupyter.widget-view+json": {
       "model_id": "3525af2d392e4402844878955f78a6de",
       "version_major": 2,
       "version_minor": 0
      },
      "text/plain": [
       "modules.json:   0%|          | 0.00/349 [00:00<?, ?B/s]"
      ]
     },
     "metadata": {},
     "output_type": "display_data"
    },
    {
     "name": "stderr",
     "output_type": "stream",
     "text": [
      "c:\\Users\\Michał Żądełek\\OneDrive - Politechnika Wroclawska\\sem7\\ZPI\\EATcareFULLY-python\\EATcareFULLY-supportive_services\\Lib\\site-packages\\huggingface_hub\\file_download.py:139: UserWarning: `huggingface_hub` cache-system uses symlinks by default to efficiently store duplicated files but your machine does not support them in C:\\Users\\Michał Żądełek\\.cache\\huggingface\\hub\\models--sentence-transformers--all-MiniLM-L6-v2. Caching files will still work but in a degraded version that might require more space on your disk. This warning can be disabled by setting the `HF_HUB_DISABLE_SYMLINKS_WARNING` environment variable. For more details, see https://huggingface.co/docs/huggingface_hub/how-to-cache#limitations.\n",
      "To support symlinks on Windows, you either need to activate Developer Mode or to run Python as an administrator. In order to activate developer mode, see this article: https://docs.microsoft.com/en-us/windows/apps/get-started/enable-your-device-for-development\n",
      "  warnings.warn(message)\n"
     ]
    },
    {
     "data": {
      "application/vnd.jupyter.widget-view+json": {
       "model_id": "a17397176b654fd4adabfa3fa7abdb5a",
       "version_major": 2,
       "version_minor": 0
      },
      "text/plain": [
       "config_sentence_transformers.json:   0%|          | 0.00/116 [00:00<?, ?B/s]"
      ]
     },
     "metadata": {},
     "output_type": "display_data"
    },
    {
     "data": {
      "application/vnd.jupyter.widget-view+json": {
       "model_id": "b6e116c2d1234e44b4587af04b9e7517",
       "version_major": 2,
       "version_minor": 0
      },
      "text/plain": [
       "README.md:   0%|          | 0.00/10.7k [00:00<?, ?B/s]"
      ]
     },
     "metadata": {},
     "output_type": "display_data"
    },
    {
     "data": {
      "application/vnd.jupyter.widget-view+json": {
       "model_id": "ee52f4f19463420099edb7ee792c85d7",
       "version_major": 2,
       "version_minor": 0
      },
      "text/plain": [
       "sentence_bert_config.json:   0%|          | 0.00/53.0 [00:00<?, ?B/s]"
      ]
     },
     "metadata": {},
     "output_type": "display_data"
    },
    {
     "data": {
      "application/vnd.jupyter.widget-view+json": {
       "model_id": "1077b6f458b146e6afb5e01846f487aa",
       "version_major": 2,
       "version_minor": 0
      },
      "text/plain": [
       "config.json:   0%|          | 0.00/612 [00:00<?, ?B/s]"
      ]
     },
     "metadata": {},
     "output_type": "display_data"
    },
    {
     "data": {
      "application/vnd.jupyter.widget-view+json": {
       "model_id": "05ad1abe0359479c96aeeba82d88bf48",
       "version_major": 2,
       "version_minor": 0
      },
      "text/plain": [
       "model.safetensors:   0%|          | 0.00/90.9M [00:00<?, ?B/s]"
      ]
     },
     "metadata": {},
     "output_type": "display_data"
    },
    {
     "data": {
      "application/vnd.jupyter.widget-view+json": {
       "model_id": "fa443d4186e745d4a85d33ace58b42a3",
       "version_major": 2,
       "version_minor": 0
      },
      "text/plain": [
       "tokenizer_config.json:   0%|          | 0.00/350 [00:00<?, ?B/s]"
      ]
     },
     "metadata": {},
     "output_type": "display_data"
    },
    {
     "data": {
      "application/vnd.jupyter.widget-view+json": {
       "model_id": "e64473b33b6f4281a6caa6fc3fd5d4f2",
       "version_major": 2,
       "version_minor": 0
      },
      "text/plain": [
       "vocab.txt:   0%|          | 0.00/232k [00:00<?, ?B/s]"
      ]
     },
     "metadata": {},
     "output_type": "display_data"
    },
    {
     "data": {
      "application/vnd.jupyter.widget-view+json": {
       "model_id": "faa3f374daab462989b7449b1d7f7c2b",
       "version_major": 2,
       "version_minor": 0
      },
      "text/plain": [
       "tokenizer.json:   0%|          | 0.00/466k [00:00<?, ?B/s]"
      ]
     },
     "metadata": {},
     "output_type": "display_data"
    },
    {
     "data": {
      "application/vnd.jupyter.widget-view+json": {
       "model_id": "535c7e21990e4e489ee51a688ca9ab6d",
       "version_major": 2,
       "version_minor": 0
      },
      "text/plain": [
       "special_tokens_map.json:   0%|          | 0.00/112 [00:00<?, ?B/s]"
      ]
     },
     "metadata": {},
     "output_type": "display_data"
    },
    {
     "data": {
      "application/vnd.jupyter.widget-view+json": {
       "model_id": "08c558e2385e4dc0ab69e14b5ed076c9",
       "version_major": 2,
       "version_minor": 0
      },
      "text/plain": [
       "1_Pooling/config.json:   0%|          | 0.00/190 [00:00<?, ?B/s]"
      ]
     },
     "metadata": {},
     "output_type": "display_data"
    }
   ],
   "source": [
    "class SentenceTransformerComparator(CategoriesComparator):\n",
    "    def __init__(self, model: SentenceTransformer = SentenceTransformer('all-MiniLM-L6-v2')) -> None:\n",
    "        self.model = model\n",
    "\n",
    "    def compare(self, product_categories: str, user_categories: str) -> float:\n",
    "        product_categories_embedding = self.model.encode(product_categories, convert_to_tensor=True)\n",
    "        user_categories_embedding = self.model.encode(user_categories, convert_to_tensor=True)\n",
    "\n",
    "        similarity = util.pytorch_cos_sim(product_categories_embedding, user_categories_embedding)\n",
    "\n",
    "        return similarity.item()"
   ]
  },
  {
   "cell_type": "code",
   "execution_count": null,
   "metadata": {},
   "outputs": [],
   "source": [
    "class RecommendationSystem:\n",
    "    def __init__(self, recommendation_strategy: RecommendationStrategy, categories_comparator: CategoriesComparator = SentenceTransformerComparator()) -> None:\n",
    "        self.recommendation_strategy = recommendation_strategy\n",
    "        self.categories_comparator = categories_comparator\n",
    "\n",
    "    def recommend(self, _df: pd.DataFrame, product: OpenFoodFactsProduct, n=1) -> List[int]:\n",
    "\n",
    "        _df = _df.copy()\n",
    "\n",
    "        product_categories = product[\"categories_en\"].values\n",
    "\n",
    "        filtered_df = (filtered_df\n",
    "                    .pipe(self.__filter_categories, product_categories)\n",
    "                    .pipe(self.__exclude_factors))\n",
    "\n",
    "        recommendations = []\n",
    "            \n",
    "        return recommendations\n",
    "\n",
    "\n",
    "\n",
    "    @lru_cache(maxsize=1000)\n",
    "    def __compare_categories(self, product_categories, target_categories):\n",
    "        return self.categories_comparator.compare(product_categories, target_categories)\n",
    "\n",
    "    def __filter_categories(self, df: pd.DataFrame, product_categories, threshold: float = 0.9) -> pd.DataFrame:\n",
    "        df['similarity'] = df['categories_en'].apply(\n",
    "            lambda x: self.__compare_categories(x, product_categories)\n",
    "        )\n",
    "        return df[df['similarity'] >= threshold].reset_index(drop=True)\n",
    "        \n",
    "\n",
    "    def __exclude_factors(self,df: pd.DataFrame) -> pd.DataFrame:\n",
    "        \n",
    "        for factor in self.recommendation_strategy.recommendation_factors:\n",
    "            if factor.avoid:\n",
    "                mask = ~df[factor.name].str.contains('|'.join(factor.content), case=False, na=False)\n",
    "                df = df[mask]\n",
    "        \n",
    "        return df\n"
   ]
  },
  {
   "cell_type": "code",
   "execution_count": null,
   "metadata": {},
   "outputs": [],
   "source": []
  }
 ],
 "metadata": {
  "kernelspec": {
   "display_name": "EATcareFULLY-supportive_services",
   "language": "python",
   "name": "python3"
  },
  "language_info": {
   "codemirror_mode": {
    "name": "ipython",
    "version": 3
   },
   "file_extension": ".py",
   "mimetype": "text/x-python",
   "name": "python",
   "nbconvert_exporter": "python",
   "pygments_lexer": "ipython3",
   "version": "3.12.3"
  }
 },
 "nbformat": 4,
 "nbformat_minor": 2
}
